{
 "cells": [
  {
   "cell_type": "code",
   "id": "initial_id",
   "metadata": {
    "collapsed": true,
    "ExecuteTime": {
     "end_time": "2024-11-14T11:56:43.875765Z",
     "start_time": "2024-11-14T11:56:43.835683Z"
    }
   },
   "source": [
    "import numpy as np\n",
    "import cv2\n"
   ],
   "outputs": [],
   "execution_count": 11
  },
  {
   "metadata": {
    "ExecuteTime": {
     "end_time": "2024-11-14T11:57:08.242817Z",
     "start_time": "2024-11-14T11:56:44.405783Z"
    }
   },
   "cell_type": "code",
   "source": [
    "def initialize_grid(size, random_seed=None):\n",
    "    \"\"\"Initialize the grid with random values (0 or 1).\"\"\"\n",
    "    if random_seed is not None:\n",
    "        np.random.seed(random_seed)\n",
    "    return np.random.choice([0, 1], size=size)\n",
    "\n",
    "def update_grid(grid):\n",
    "    \"\"\"Update the grid based on the rules of Conway's Game of Life.\"\"\"\n",
    "    # Create a padded grid to handle edge wrapping\n",
    "    padded_grid = np.pad(grid, pad_width=1, mode='wrap')\n",
    "    updated_grid = grid.copy()\n",
    "    \n",
    "    for i in range(grid.shape[0]):\n",
    "        for j in range(grid.shape[1]):\n",
    "            # Count neighbors by slicing the padded grid\n",
    "            neighborhood = padded_grid[i:i+3, j:j+3]\n",
    "            alive_neighbors = np.sum(neighborhood) - padded_grid[i+1, j+1]\n",
    "            \n",
    "            # Apply rules of Game of Life\n",
    "            if grid[i, j] == 1:  # Cell is alive\n",
    "                if alive_neighbors < 2 or alive_neighbors > 3:\n",
    "                    updated_grid[i, j] = 0  # Dies\n",
    "            else:  # Cell is dead\n",
    "                if alive_neighbors == 3:\n",
    "                    updated_grid[i, j] = 1  # Becomes alive\n",
    "\n",
    "    return updated_grid\n",
    "\n",
    "def visualize_game_opencv(grid_size=(50, 50), steps=200, cell_size=5, random_seed=None):\n",
    "    \"\"\"Visualize Conway's Game of Life using OpenCV.\"\"\"\n",
    "    grid = initialize_grid(grid_size, random_seed)\n",
    "    \n",
    "    # Create a window\n",
    "    window_name = \"Conway's Game of Life\"\n",
    "    cv2.namedWindow(window_name)\n",
    "    \n",
    "    for step in range(steps):\n",
    "        # Resize grid for visualization\n",
    "        display_grid = cv2.resize(grid.astype(np.uint8) * 255, \n",
    "                                  (grid_size[1] * cell_size, grid_size[0] * cell_size), \n",
    "                                  interpolation=cv2.INTER_NEAREST)\n",
    "        \n",
    "        # Show grid in OpenCV window\n",
    "        cv2.imshow(window_name, display_grid)\n",
    "        \n",
    "        # Update grid for the next step\n",
    "        grid = update_grid(grid)\n",
    "        \n",
    "        # Break if the user presses the ESC key\n",
    "        if cv2.waitKey(100) & 0xFF == 27:\n",
    "            break\n",
    "\n",
    "    cv2.destroyAllWindows()\n",
    "\n",
    "# Run the visualization\n",
    "visualize_game_opencv(grid_size=(50, 50), steps=200, cell_size=10, random_seed=42)"
   ],
   "id": "1041d66acb02a2d7",
   "outputs": [],
   "execution_count": 12
  },
  {
   "metadata": {
    "ExecuteTime": {
     "end_time": "2024-11-14T13:02:44.357496Z",
     "start_time": "2024-11-14T13:02:44.338355Z"
    }
   },
   "cell_type": "code",
   "source": "rule << 3",
   "id": "58743aaa95b17313",
   "outputs": [
    {
     "ename": "NameError",
     "evalue": "name 'rule' is not defined",
     "output_type": "error",
     "traceback": [
      "\u001B[0;31m---------------------------------------------------------------------------\u001B[0m",
      "\u001B[0;31mNameError\u001B[0m                                 Traceback (most recent call last)",
      "Cell \u001B[0;32mIn[13], line 1\u001B[0m\n\u001B[0;32m----> 1\u001B[0m \u001B[43mrule\u001B[49m \u001B[38;5;241m<<\u001B[39m \u001B[38;5;241m3\u001B[39m\n",
      "\u001B[0;31mNameError\u001B[0m: name 'rule' is not defined"
     ]
    }
   ],
   "execution_count": 13
  },
  {
   "metadata": {
    "ExecuteTime": {
     "end_time": "2024-11-14T13:02:58.084191Z",
     "start_time": "2024-11-14T13:02:58.081056Z"
    }
   },
   "cell_type": "code",
   "source": "3 >> 1",
   "id": "706ebbaaf81be488",
   "outputs": [
    {
     "data": {
      "text/plain": [
       "1"
      ]
     },
     "execution_count": 16,
     "metadata": {},
     "output_type": "execute_result"
    }
   ],
   "execution_count": 16
  },
  {
   "metadata": {
    "ExecuteTime": {
     "end_time": "2024-11-14T13:15:04.795637Z",
     "start_time": "2024-11-14T13:15:04.788877Z"
    }
   },
   "cell_type": "code",
   "source": [
    "mask = 1\n",
    "for i in range (8):\n",
    "    print( 184 & mask << i)\n",
    "   "
   ],
   "id": "561dafcf2e6c5afb",
   "outputs": [
    {
     "name": "stdout",
     "output_type": "stream",
     "text": [
      "0\n",
      "0\n",
      "0\n",
      "8\n",
      "16\n",
      "32\n",
      "0\n",
      "128\n"
     ]
    }
   ],
   "execution_count": 27
  },
  {
   "metadata": {
    "ExecuteTime": {
     "end_time": "2024-11-14T13:34:21.628736Z",
     "start_time": "2024-11-14T13:34:21.622299Z"
    }
   },
   "cell_type": "code",
   "source": "(1 << 2) + (1 << 1) + (0)",
   "id": "2db65a56aecfcc1e",
   "outputs": [
    {
     "data": {
      "text/plain": [
       "6"
      ]
     },
     "execution_count": 4,
     "metadata": {},
     "output_type": "execute_result"
    }
   ],
   "execution_count": 4
  },
  {
   "metadata": {},
   "cell_type": "code",
   "outputs": [],
   "execution_count": null,
   "source": "",
   "id": "e86d99700ce637a4"
  }
 ],
 "metadata": {
  "kernelspec": {
   "display_name": "Python 3",
   "language": "python",
   "name": "python3"
  },
  "language_info": {
   "codemirror_mode": {
    "name": "ipython",
    "version": 2
   },
   "file_extension": ".py",
   "mimetype": "text/x-python",
   "name": "python",
   "nbconvert_exporter": "python",
   "pygments_lexer": "ipython2",
   "version": "2.7.6"
  }
 },
 "nbformat": 4,
 "nbformat_minor": 5
}
